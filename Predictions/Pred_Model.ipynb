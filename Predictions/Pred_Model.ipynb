{
 "cells": [
  {
   "cell_type": "markdown",
   "id": "54f0e988",
   "metadata": {},
   "source": [
    "# Measurement --- PQVI points"
   ]
  },
  {
   "cell_type": "code",
   "execution_count": 1,
   "id": "9c78d963",
   "metadata": {},
   "outputs": [],
   "source": [
    "import csv\n",
    "import numpy as np\n",
    "\n",
    "# # Create an empty list to store the 'Age' values\n",
    "# P_g = []\n",
    "# P_std = []\n",
    "# Q_g = []\n",
    "# Q_std = []\n",
    "# V_t = []\n",
    "# V_std = []\n",
    "# I_a = []\n",
    "# Ia_std = []\n",
    "# I_f = []\n",
    "# If_std = []\n",
    "\n",
    "# # Open the CSV file\n",
    "# with open('PQV-ss-data.csv', mode='r') as file:\n",
    "#     # Create a CSV DictReader object\n",
    "#     csv_dict_reader = csv.DictReader(file)\n",
    "    \n",
    "#     # Iterate over each row in the CSV file\n",
    "#     for row in csv_dict_reader:\n",
    "#         # Extract the 'Age' value and append it to the list\n",
    "#         P_g.append(np.float32(row['P_g']))\n",
    "#         P_std.append(np.float32(row['P_std']))\n",
    "#         Q_g.append(np.float32(row['Q_g']))\n",
    "#         Q_std.append(np.float32(row['Q_std']))\n",
    "#         V_t.append(np.float32(row['V_t']))\n",
    "#         V_std.append(np.float32(row['V_std']))\n",
    "#         I_a.append(np.float32(row['Ia_avg']))\n",
    "#         Ia_std.append(np.float32(row['Ia_std']))\n",
    "#         I_f.append(np.float32(row['If']))\n",
    "#         If_std.append(np.float32(row['If_std']))\n",
    "        \n",
    "# N_obs = len(P_g);"
   ]
  },
  {
   "cell_type": "code",
   "execution_count": 2,
   "id": "2480453f",
   "metadata": {},
   "outputs": [],
   "source": [
    "# Create an empty list to store the 'Age' values\n",
    "P_g = []\n",
    "Q_g = []\n",
    "V_t = []\n",
    "I_a = []\n",
    "I_f = []\n",
    "\n",
    "# Open the CSV file\n",
    "with open('PQ_boosting.csv', mode='r') as file:\n",
    "    # Create a CSV DictReader object\n",
    "    csv_dict_reader = csv.DictReader(file)\n",
    "    \n",
    "    # Iterate over each row in the CSV file\n",
    "    for row in csv_dict_reader:\n",
    "        P_g.append(np.float32(row['P']))\n",
    "        Q_g.append(np.float32(row['Q']))\n",
    "        V_t.append(np.float32(row['Vt']))\n",
    "        I_a.append(np.float32(row['Ia']))\n",
    "        I_f.append(np.float32(row['If']))\n",
    "        \n",
    "N_obs = len(P_g);"
   ]
  },
  {
   "cell_type": "code",
   "execution_count": 6,
   "id": "b5ee795c",
   "metadata": {},
   "outputs": [
    {
     "data": {
      "image/png": "[encoded data removed]",
      "text/plain": [
       "<Figure size 800x450 with 1 Axes>"
      ]
     },
     "metadata": {},
     "output_type": "display_data"
    }
   ],
   "source": [
    "import matplotlib.pyplot as plt\n",
    "plt.figure(figsize=(16/2, 9/2)) #Ultra-wide aspect ratio\n",
    "plt.scatter(Q_g,P_g)\n",
    "plt.show()"
   ]
  },
  {
   "cell_type": "markdown",
   "id": "9b663a2f",
   "metadata": {},
   "source": [
    "# $R_{DC}$ Armature Resistance - Density Distribution Samples"
   ]
  },
  {
   "cell_type": "code",
   "execution_count": 13,
   "id": "9cc447fb",
   "metadata": {},
   "outputs": [
    {
     "ename": "KeyError",
     "evalue": "'R_20_sq'",
     "output_type": "error",
     "traceback": [
      "\u001b[1;31m---------------------------------------------------------------------------\u001b[0m",
      "\u001b[1;31mKeyError\u001b[0m                                  Traceback (most recent call last)",
      "\u001b[1;32m~\\AppData\\Local\\Temp\\ipykernel_10028\\1229658605.py\u001b[0m in \u001b[0;36m<module>\u001b[1;34m\u001b[0m\n\u001b[0;32m     14\u001b[0m         \u001b[0mR20_s\u001b[0m\u001b[1;33m.\u001b[0m\u001b[0mappend\u001b[0m\u001b[1;33m(\u001b[0m\u001b[0mnp\u001b[0m\u001b[1;33m.\u001b[0m\u001b[0mfloat32\u001b[0m\u001b[1;33m(\u001b[0m\u001b[0mrow\u001b[0m\u001b[1;33m[\u001b[0m\u001b[1;34m'R20'\u001b[0m\u001b[1;33m]\u001b[0m\u001b[1;33m)\u001b[0m\u001b[1;33m)\u001b[0m\u001b[1;33m\u001b[0m\u001b[1;33m\u001b[0m\u001b[0m\n\u001b[0;32m     15\u001b[0m         \u001b[0mDeltaT_s\u001b[0m\u001b[1;33m.\u001b[0m\u001b[0mappend\u001b[0m\u001b[1;33m(\u001b[0m\u001b[0mnp\u001b[0m\u001b[1;33m.\u001b[0m\u001b[0mfloat32\u001b[0m\u001b[1;33m(\u001b[0m\u001b[0mrow\u001b[0m\u001b[1;33m[\u001b[0m\u001b[1;34m'delta_t'\u001b[0m\u001b[1;33m]\u001b[0m\u001b[1;33m)\u001b[0m\u001b[1;33m)\u001b[0m\u001b[1;33m\u001b[0m\u001b[1;33m\u001b[0m\u001b[0m\n\u001b[1;32m---> 16\u001b[1;33m         \u001b[0mR20_sq\u001b[0m\u001b[1;33m.\u001b[0m\u001b[0mappend\u001b[0m\u001b[1;33m(\u001b[0m\u001b[0mnp\u001b[0m\u001b[1;33m.\u001b[0m\u001b[0mfloat32\u001b[0m\u001b[1;33m(\u001b[0m\u001b[0mrow\u001b[0m\u001b[1;33m[\u001b[0m\u001b[1;34m'R_20_sq'\u001b[0m\u001b[1;33m]\u001b[0m\u001b[1;33m)\u001b[0m\u001b[1;33m)\u001b[0m\u001b[1;33m\u001b[0m\u001b[1;33m\u001b[0m\u001b[0m\n\u001b[0m",
      "\u001b[1;31mKeyError\u001b[0m: 'R_20_sq'"
     ]
    }
   ],
   "source": [
    "# Create an empty list to store the 'Age' values\n",
    "R20_s = []\n",
    "DeltaT_s = []\n",
    "R20_sq = []\n",
    "\n",
    "# Open the CSV file\n",
    "with open('C:/Users/drobl/OneDrive - USN/PhD Courses/Modern Experimental Design/Project/Repo_Codes/Generator-Parameter-Inference-Repo/Test 1 - DC Test/test_1_stator_result_data.csv', mode='r') as file:\n",
    "    # Create a CSV DictReader object\n",
    "    csv_dict_reader = csv.DictReader(file)\n",
    "    \n",
    "    # Iterate over each row in the CSV file\n",
    "    for row in csv_dict_reader:\n",
    "        # Extract the 'Age' value and append it to the list\n",
    "        R20_s.append(np.float32(row['R20']))\n",
    "        DeltaT_s.append(np.float32(row['delta_t']))\n",
    "        R20_sq.append(np.float32(row['R_20_sq']))"
   ]
  },
  {
   "cell_type": "code",
   "execution_count": null,
   "id": "da6535d6",
   "metadata": {},
   "outputs": [],
   "source": [
    "min_Rdc = min(len(R20_s),len(DeltaT_s),len(R20_sq))"
   ]
  },
  {
   "cell_type": "markdown",
   "id": "235efda7",
   "metadata": {},
   "source": [
    "# $X_q$ quadrature axis reactance - Density Distribution Samples"
   ]
  },
  {
   "cell_type": "code",
   "execution_count": null,
   "id": "01cd011e",
   "metadata": {},
   "outputs": [],
   "source": [
    "# Create an empty list to store the 'Age' values\n",
    "X_q = []\n",
    "\n",
    "# Open the CSV file\n",
    "with open('test_6_result_data.csv', mode='r') as file:\n",
    "    # Create a CSV DictReader object\n",
    "    csv_dict_reader = csv.DictReader(file)\n",
    "    \n",
    "    # Iterate over each row in the CSV file\n",
    "    for row in csv_dict_reader:\n",
    "        # Extract the 'Age' value and append it to the list\n",
    "        X_q.append(np.float32(row['x_q']))"
   ]
  },
  {
   "cell_type": "code",
   "execution_count": null,
   "id": "9fa24034",
   "metadata": {},
   "outputs": [],
   "source": [
    "min_Xq = min(len(X_q),min_Rdc)"
   ]
  },
  {
   "cell_type": "markdown",
   "id": "ab10959a",
   "metadata": {},
   "source": [
    "# $X_d$ direct axis reactance - Density Distribution Samples"
   ]
  },
  {
   "cell_type": "code",
   "execution_count": null,
   "id": "198d8275",
   "metadata": {},
   "outputs": [],
   "source": [
    "# Create an empty list to store the 'Age' values\n",
    "X_d = []\n",
    "\n",
    "# Open the CSV file\n",
    "with open('Xd_calculation.csv', mode='r') as file:\n",
    "    # Create a CSV DictReader object\n",
    "    csv_dict_reader = csv.DictReader(file)\n",
    "    \n",
    "    # Iterate over each row in the CSV file\n",
    "    for row in csv_dict_reader:\n",
    "        # Extract the 'Age' value and append it to the list\n",
    "        X_d.append(np.float32(row['Xd']))"
   ]
  },
  {
   "cell_type": "code",
   "execution_count": null,
   "id": "5a867d9b",
   "metadata": {},
   "outputs": [],
   "source": [
    "min_Xd = min(len(X_d),min_Xq)"
   ]
  },
  {
   "cell_type": "markdown",
   "id": "b3130ab4",
   "metadata": {},
   "source": [
    "# $X_l$  leakage reactance - Density Distribution Samples"
   ]
  },
  {
   "cell_type": "code",
   "execution_count": null,
   "id": "e05df808",
   "metadata": {},
   "outputs": [],
   "source": [
    "# Create an empty list to store the 'Age' values\n",
    "X_l = []\n",
    "\n",
    "# Open the CSV file\n",
    "with open('test_4_result_data.csv', mode='r') as file:\n",
    "    # Create a CSV DictReader object\n",
    "    csv_dict_reader = csv.DictReader(file)\n",
    "    \n",
    "    # Iterate over each row in the CSV file\n",
    "    for row in csv_dict_reader:\n",
    "        # Extract the 'Age' value and append it to the list\n",
    "        X_l.append(np.float32(row['x_l']))"
   ]
  },
  {
   "cell_type": "code",
   "execution_count": null,
   "id": "7a1f301d",
   "metadata": {},
   "outputs": [],
   "source": [
    "N_samples = min(len(X_l),min_Xd)"
   ]
  },
  {
   "cell_type": "markdown",
   "id": "e1c71a23",
   "metadata": {},
   "source": [
    "# OCC saturation curve parameters"
   ]
  },
  {
   "cell_type": "code",
   "execution_count": null,
   "id": "e43e97f7",
   "metadata": {},
   "outputs": [],
   "source": [
    "# Create an empty list to store the 'Age' values\n",
    "k = []\n",
    "C_m = []\n",
    "m = []\n",
    "\n",
    "# Open the CSV file\n",
    "with open('test_2_result_data_last_low.csv', mode='r') as file:\n",
    "    # Create a CSV DictReader object\n",
    "    csv_dict_reader = csv.DictReader(file)\n",
    "    \n",
    "    # Iterate over each row in the CSV file\n",
    "    for row in csv_dict_reader:\n",
    "        # Extract the 'Age' value and append it to the list\n",
    "        k.append(np.float32(row['k']))\n",
    "        C_m.append(np.float32(row['c_m']))\n",
    "        m.append(np.float32(row['m']))        "
   ]
  },
  {
   "cell_type": "code",
   "execution_count": null,
   "id": "2cb18c8e",
   "metadata": {},
   "outputs": [],
   "source": [
    "# np.mean(k), np.mean(C_m), np.mean(m)"
   ]
  },
  {
   "cell_type": "markdown",
   "id": "18326f71",
   "metadata": {},
   "source": [
    "## Bootstraping"
   ]
  },
  {
   "cell_type": "code",
   "execution_count": null,
   "id": "2d649b65",
   "metadata": {},
   "outputs": [],
   "source": [
    "if len(X_l) > N_samples:\n",
    "    X_l = np.random.choice(X_l, size=N_samples, replace=True)\n",
    "if len(X_d) > N_samples:\n",
    "    X_d = np.random.choice(X_d, size=N_samples, replace=True)\n",
    "if len(X_q) > N_samples:\n",
    "    X_q = np.random.choice(X_q, size=N_samples, replace=True)\n",
    "if len(R20_s) > N_samples:\n",
    "    R20_s = np.random.choice(R20_s, size=N_samples, replace=True)\n",
    "if len(k) > N_samples:\n",
    "    k = np.random.choice(k, size=N_samples, replace=True)\n",
    "if len(C_m) > N_samples:\n",
    "    C_m = np.random.choice(C_m, size=N_samples, replace=True)\n",
    "if len(m) > N_samples:\n",
    "    m = np.random.choice(m, size=N_samples, replace=True)"
   ]
  },
  {
   "cell_type": "code",
   "execution_count": null,
   "id": "640aa150",
   "metadata": {},
   "outputs": [],
   "source": [
    "X_l_mean = np.mean(X_l)\n",
    "X_l_std = np.std(X_l)\n",
    "X_d_mean = np.mean(X_d)\n",
    "X_d_std = np.std(X_d)\n",
    "X_q_mean = np.mean(X_q)\n",
    "X_q_std = np.std(X_q)\n",
    "Rs_mean = np.mean(R20_s)/(220**2/2000)"
   ]
  },
  {
   "cell_type": "code",
   "execution_count": null,
   "id": "8af68629",
   "metadata": {},
   "outputs": [],
   "source": [
    "X_l_mean,X_d_mean, X_q_mean, Rs_mean"
   ]
  },
  {
   "cell_type": "code",
   "execution_count": null,
   "id": "87c848a8",
   "metadata": {},
   "outputs": [],
   "source": [
    "# def generate_I_pred(P_g,P_std,Q_g,Q_std,V_t,V_std,I_a,Ia_std,If_std,samples,obs,Ra,Xd,Xl,Xq,C_m,m,k):\n",
    "def generate_I_pred(P_g,Q_g,V_t,I_a,samples,obs,Ra,Xd,Xl,Xq,C_m,m,k):\n",
    "    Ra = np.array(Ra)/(220**2/2000)\n",
    "    num_samples = samples\n",
    "    num_exp = obs\n",
    "    If_pred = np.empty((num_exp, num_samples))\n",
    "    phi = np.empty((num_exp, num_samples))\n",
    "    delta = np.empty((num_exp, num_samples))\n",
    "    Eg = np.empty((num_exp, num_samples))\n",
    "    theta = np.empty((num_exp, num_samples))\n",
    "    El = np.empty((num_exp, num_samples))\n",
    "    Id = np.empty((num_exp, num_samples))\n",
    "\n",
    "    for i in range(num_samples):\n",
    "        P = np.random.normal(P_g,0.01/2000)+0/2000 # STILL NEEDS TO DEFINE SIEMENS METER STD\n",
    "        Q = np.random.normal(Q_g,0.01/2000)+0/2000\n",
    "        Ia = np.random.normal(I_a,0.01/5.25)+0/5.25\n",
    "        V = np.random.normal(V_t,0.018/(220/np.sqrt(3)))+0/(220/np.sqrt(3)) #Fluke v_std\n",
    "        Kw = np.random.normal(0.0030719,0.0012832)\n",
    "#         P = np.linspace(0.2,0.8,42)\n",
    "#         Q = np.sqrt(1-P**2)\n",
    "#         Ia = np.sqrt(P**2+Q**2)/V\n",
    "        phi[:, i] = np.arctan(Q/P)\n",
    "        delta[:, i] = np.arctan((Xq[i]*Ia*np.cos(phi[:, i])-Ra[i]*Ia*np.sin(phi[:, i]))/(V+Ra[i]*Ia*np.cos(phi[:, i])+Xq[i]*Ia*np.sin(phi[:, i])))\n",
    "        Eg[:, i] = V*np.cos(delta[:, i])+Ra[i]*Ia*np.cos(delta[:, i]+phi[:, i])+Xd[i]*Ia*np.sin(delta[:, i]+phi[:, i])\n",
    "        theta[:, i] = np.arctan((Xl[i]*Ia*np.cos(phi[:, i])-Ra[i]*Ia*np.sin(phi[:, i]))/(V+Ra[i]*Ia*np.cos(phi[:, i])+Xl[i]*Ia*np.sin(phi[:, i])))\n",
    "        El[:, i] = V*np.cos(theta[:, i])+Ra[i]*Ia*np.cos(theta[:, i]+phi[:, i])+Xl[i]*Ia*np.sin(theta[:, i]+phi[:, i])\n",
    "        Id[:,i] = Ia*np.sin(phi[:,i]+delta[:,i])\n",
    "        mean = ((Eg[:, i]-El[:, i]+k[i]*(El[:, i]+C_m[i]*El[:, i]**m[i]))/(1.6/0.8549)) #/(1-Kw*Id[:,i])\n",
    "        std = np.std(mean)\n",
    "        If_pred[:, i] = np.random.normal(mean, 0.0051, num_exp) #Fluke If_std\n",
    "\n",
    "    return If_pred, phi, delta, Eg, theta, El, mean, Id\n",
    "\n",
    "# If_pred, phi, delta, Eg, theta, El, mean = generate_I_pred(P_g,P_std,Q_g,Q_std,V_t,V_std,I_a,Ia_std,If_std,N_samples,N_obs,R20_s,X_d,X_l,X_q,C_m,m,k)\n",
    "If_pred, phi, delta, Eg, theta, El, mean, Id = generate_I_pred(P_g,Q_g,V_t,I_a,N_samples,N_obs,R20_s,X_d,X_l,X_q,C_m,m,k)\n",
    "\n",
    "\n",
    "def compute_hdi(samples, interval):\n",
    "    sorted_samples = np.sort(samples)\n",
    "    n_samples = len(sorted_samples)\n",
    "    n_in_interval = int(np.floor(interval * n_samples))\n",
    "    interval_width = sorted_samples[n_in_interval:] - sorted_samples[:n_samples - n_in_interval]\n",
    "    min_width_index = np.argmin(interval_width)\n",
    "    hdi_low = sorted_samples[min_width_index]\n",
    "    hdi_high = sorted_samples[min_width_index + n_in_interval]\n",
    "    return hdi_low, hdi_high\n",
    "\n",
    "# How many sigmas away the Confidence Interval\n",
    "import math\n",
    "HDI = math.erf(2) #Sigma value\n",
    "\n",
    "mean_prediction = np.mean(If_pred.T, axis=0)\n",
    "hdi_low, hdi_high = np.array([compute_hdi(If_pred.T[:, i],HDI) for i in range(If_pred.T.shape[-1])]).T"
   ]
  },
  {
   "cell_type": "markdown",
   "id": "1ad5c9d6",
   "metadata": {},
   "source": [
    "# Mean of all Standard Deviations $\\Sigma_{i=0}^n \\sigma_i/n$"
   ]
  },
  {
   "cell_type": "code",
   "execution_count": null,
   "id": "9018db33",
   "metadata": {},
   "outputs": [],
   "source": [
    "std_prediction = np.std(If_pred.T, axis=0)\n",
    "std_pred_mean = np.mean(std_prediction)\n",
    "print(std_pred_mean)"
   ]
  },
  {
   "cell_type": "code",
   "execution_count": null,
   "id": "4ce8f937",
   "metadata": {},
   "outputs": [],
   "source": []
  },
  {
   "cell_type": "code",
   "execution_count": null,
   "id": "ebe97cd6",
   "metadata": {
    "scrolled": false
   },
   "outputs": [],
   "source": [
    "import matplotlib.pyplot as plt\n",
    "plt.figure(figsize=(12, 3.5))\n",
    "x = np.linspace(1,N_obs,N_obs)\n",
    "plt.violinplot(Id.T, vert=0, positions=x, showmeans=True, showextrema=True, showmedians=True)\n",
    "# Add a grid\n",
    "plt.grid(True, linestyle='--', linewidth=0.5, alpha=0.7)\n",
    "\n",
    "# Add a minor grid\n",
    "ax = plt.gca()\n",
    "ax.minorticks_on()\n",
    "ax.tick_params(axis='y', which='minor', left=False)  # Disable minor ticks on the y-axis\n",
    "ax.grid(which='minor', linestyle=':', linewidth=0.5, alpha=0.5, axis='x')\n",
    "\n",
    "# plt.savefig('Model_pred_violin_HW_LMH.png', format='png', dpi=1000, bbox_inches=\"tight\")\n",
    "    \n",
    "plt.show()"
   ]
  },
  {
   "cell_type": "code",
   "execution_count": null,
   "id": "6e1cbc44",
   "metadata": {},
   "outputs": [],
   "source": [
    "import matplotlib.pyplot as plt\n",
    "\n",
    "# Calculate the maximum value of x\n",
    "n = np.mean(m)\n",
    "\n",
    "# Create a figure with multiple subplots (2 rows, 1 column) and set the figure size\n",
    "plt.figure(figsize=(12, 5))\n",
    "# Define the font size for tick labels\n",
    "tick_font_size = 12\n",
    "\n",
    "If_pred_sort = np.empty((If_pred.T.shape[0], If_pred.T.shape[-1]))\n",
    "for i in range(If_pred.T.shape[0]):\n",
    "    If_pred_sort[i,:] = np.sort(If_pred.T[i,:])\n",
    "\n",
    "hdi_low_sort, hdi_high_sort = np.array([compute_hdi(If_pred_sort[:, i],HDI) for i in range(If_pred_sort.shape[-1])]).T\n",
    "\n",
    "# Plot \n",
    "plt.fill_between(np.sort(I_f), hdi_low_sort, hdi_high_sort, alpha=0.35, label=\"Model Prediction with 2$\\sigma$\")\n",
    "plt.plot(np.sort(I_f),np.sort(mean_prediction), color='r', lw=0.85, linestyle='--', label='Mean Model Prediction')\n",
    "plt.plot(np.sort(I_f),np.sort(I_f),linestyle='--', marker='*', markersize=3, color='k', lw=0.3, label='Observed')\n",
    "\n",
    "# Set the title and labels\n",
    "plt.title('Model Prediction - HW at LMH', fontsize=20)\n",
    "plt.xlabel('Field Current Measured [Pu]', fontsize=16) \n",
    "plt.ylabel('Field Current Predicted [Pu]', fontsize=16)\n",
    "\n",
    "# Set the tick label font size for both x and y axes\n",
    "plt.xticks(fontsize=14)\n",
    "plt.yticks(fontsize=14)\n",
    "\n",
    "# Add a legend\n",
    "plt.legend(fontsize=12,loc='upper left')\n",
    "\n",
    "# Add a grid\n",
    "plt.grid(True, linestyle='--', linewidth=0.5, alpha=0.7)\n",
    "\n",
    "# plt.savefig('Model_pred_band_HW_high.png', format='png', dpi=1000, bbox_inches=\"tight\")\n",
    "\n",
    "# Show the plot\n",
    "plt.show()"
   ]
  },
  {
   "cell_type": "code",
   "execution_count": null,
   "id": "7823d59a",
   "metadata": {},
   "outputs": [],
   "source": [
    "# plt.figure(figsize=(12, 3.5))\n",
    "# x = np.linspace(1,N_obs,N_obs)\n",
    "\n",
    "# # Customize the violinplot\n",
    "# plt.boxplot(If_pred.T, vert=0)\n",
    "    \n",
    "# # Data points    \n",
    "# plt.plot(np.sort(I_f)/1.6,x,marker='x',markersize=7,lw=0.2,linestyle='--',color='k',label=\"Field Current Measurements\")\n",
    "\n",
    "# # Set the title and labels\n",
    "# plt.title('Model Prediction - KZ at LM', fontsize=20)\n",
    "# plt.xlabel('Field Current [Pu]', fontsize=16) \n",
    "# plt.ylabel('Data Points', fontsize=16)\n",
    "\n",
    "# # Set the tick label font size for both x and y axes\n",
    "# plt.xticks(fontsize=14)\n",
    "# plt.yticks(fontsize=14)\n",
    "\n",
    "# # Add a legend\n",
    "# plt.legend(fontsize=12,loc='upper left')\n",
    "\n",
    "# # Add a grid\n",
    "# plt.grid(True, linestyle='--', linewidth=0.5, alpha=0.7)\n",
    "\n",
    "# # Add a minor grid\n",
    "# ax = plt.gca()\n",
    "# ax.minorticks_on()\n",
    "# ax.grid(which='minor', linestyle=':', linewidth=0.5, alpha=0.5, axis='x')\n",
    "\n",
    "# # plt.savefig('Model_pred_KZ_LM.png', format='png', dpi=1000, bbox_inches=\"tight\")\n",
    "    \n",
    "# plt.show()"
   ]
  },
  {
   "cell_type": "code",
   "execution_count": null,
   "id": "d9f4c962",
   "metadata": {
    "scrolled": false
   },
   "outputs": [],
   "source": [
    "plt.figure(figsize=(32/1.4, 9/1.4)) #Ultra-wide aspect ratio\n",
    "x = np.linspace(1,N_obs,N_obs)\n",
    "\n",
    "# If_sort = np.sort(I_f)\n",
    "\n",
    "# If_pred_sort = np.empty((If_pred.T.shape[0], If_pred.T.shape[-1]))\n",
    "# for i in range(If_pred.T.shape[0]):\n",
    "#     If_pred_sort[i,:] = np.sort(If_pred.T[i,:])\n",
    "\n",
    "# Define a colormap\n",
    "cmap = plt.cm.get_cmap(\"tab20\", If_pred.shape[0])\n",
    "\n",
    "# Plot each violin individually and customize the whiskers' colors\n",
    "for i in range(If_pred.shape[0]):\n",
    "    vplot = plt.violinplot(If_pred.T[:, i], positions=[x[i]], showmeans=True, showextrema=True, showmedians=True) #, vert=0\n",
    "\n",
    "    vplot['bodies'][0].set_facecolor(cmap(i))\n",
    "    vplot['bodies'][0].set_edgecolor(cmap(i))\n",
    "    vplot['bodies'][0].set_alpha(0.3)\n",
    "\n",
    "    for key in ['cmaxes', 'cmins', 'cbars', 'cmedians']:\n",
    "        vplot[key].set_edgecolor(cmap(i))\n",
    "    \n",
    "    vplot['cmedians'].set_linewidth(5)\n",
    "    \n",
    "# Data points    \n",
    "plt.plot(x,np.array(I_f),marker='x',markersize=7,lw=0.2,linestyle='--',color='k',label=\"Field Current Measurements\")\n",
    "\n",
    "# Set the title and labels\n",
    "plt.title('Model Prediction - KZ at LM', fontsize=42) # with Kw = 0.0030719\n",
    "plt.ylabel('Field Current [Pu]', fontsize=34) \n",
    "plt.xlabel('Run Index', fontsize=34)\n",
    "\n",
    "# Set the tick label font size for both x and y axes\n",
    "plt.xticks(fontsize=30)\n",
    "plt.yticks(fontsize=30)\n",
    "\n",
    "# Add a legend\n",
    "plt.legend(fontsize=26,loc='lower left')\n",
    "\n",
    "# Add a grid\n",
    "plt.grid(True, linestyle='--', linewidth=0.5, alpha=0.7)\n",
    "\n",
    "# Add a minor grid\n",
    "ax = plt.gca()\n",
    "ax.minorticks_on()\n",
    "# ax.tick_params(axis='y', which='minor', left=False)  # Disable minor ticks on the y-axis\n",
    "ax.grid(which='minor', linestyle=':', linewidth=0.5, alpha=0.5) #, axis='x'\n",
    "\n",
    "# plt.savefig('Model_pred_violin_KZ_LM_boosting_horizontal.svg', format='svg', dpi=1000, bbox_inches=\"tight\")\n",
    "    \n",
    "plt.show()"
   ]
  },
  {
   "cell_type": "code",
   "execution_count": null,
   "id": "3293cd55",
   "metadata": {},
   "outputs": [],
   "source": [
    "# plt.figure(figsize=(32, 32)) #Ultra-wide aspect ratio\n",
    "# plt.violinplot(If_pred_sort,positions=If_sort,vert=0)\n",
    "# plt.show()"
   ]
  },
  {
   "cell_type": "code",
   "execution_count": null,
   "id": "c417ab10",
   "metadata": {},
   "outputs": [],
   "source": [
    "# import pandas as pd\n",
    "\n",
    "# data = mean_prediction\n",
    "\n",
    "# # Create a DataFrame\n",
    "# df = pd.DataFrame(data, columns=[\"If_pred\"])\n",
    "\n",
    "# # Write the DataFrame to a new CSV file\n",
    "# file_name = \"Pred_HW_LMH.csv\"\n",
    "# df.to_csv(file_name, index=False)"
   ]
  },
  {
   "cell_type": "code",
   "execution_count": null,
   "id": "c63c186a",
   "metadata": {},
   "outputs": [],
   "source": [
    "P = np.array(P_g) \n",
    "Q = np.array(Q_g)\n",
    "mean_prediction.shape, P.shape, Q.shape"
   ]
  },
  {
   "cell_type": "code",
   "execution_count": null,
   "id": "8a1f2765",
   "metadata": {},
   "outputs": [],
   "source": [
    "If_error = (I_f-mean_prediction)/I_f * 100"
   ]
  },
  {
   "cell_type": "code",
   "execution_count": null,
   "id": "85b25971",
   "metadata": {},
   "outputs": [],
   "source": [
    "np.mean(If_error)"
   ]
  },
  {
   "cell_type": "code",
   "execution_count": null,
   "id": "ac098285",
   "metadata": {},
   "outputs": [],
   "source": [
    "import numpy as np\n",
    "import matplotlib.pyplot as plt\n",
    "from scipy.interpolate import griddata\n",
    "\n",
    "plt.figure(figsize=(16, 9)) #Ultra-wide aspect ratio\n",
    "\n",
    "# Your data points\n",
    "x = Q  # x-coordinates\n",
    "y = P  # y-coordinates\n",
    "z = If_error  # z-values (values at each x, y coordinate)\n",
    "\n",
    "# Create a grid\n",
    "grid_x, grid_y = np.mgrid[min(x):max(x):1000j, min(y):max(y):1000j]\n",
    "\n",
    "# Interpolate the z-values on the grid\n",
    "grid_z = griddata((x, y), z, (grid_x, grid_y), method='linear')\n",
    "\n",
    "# Create the contour plot\n",
    "plt.contourf(grid_x, grid_y, grid_z, cmap='Spectral')\n",
    "plt.colorbar(label='Difference Percentage [%]')\n",
    "plt.scatter(x, y, c='k', marker='x', s=30, label='Data Points')\n",
    "# Set the title and labels\n",
    "plt.xlabel('Reactive Power Q[pu]', fontsize=16)\n",
    "plt.ylabel('Active Power P[pu]', fontsize=16)\n",
    "plt.title('Difference Percentage of Field Current Prediction - KZ at LMH', fontsize=20)\n",
    "\n",
    "# Set the tick label font size for both x and y axes\n",
    "plt.xticks(fontsize=14)\n",
    "plt.yticks(fontsize=14)\n",
    "\n",
    "# Legend\n",
    "plt.legend(loc='upper left')\n",
    "\n",
    "# Add a grid\n",
    "plt.grid(True, linestyle='--', linewidth=0.5, alpha=0.7)\n",
    "\n",
    "# Add a minor grid\n",
    "ax = plt.gca()\n",
    "ax.minorticks_on()\n",
    "ax.grid(which='minor', linestyle=':', linewidth=0.5, alpha=0.5) #, axis='x'\n",
    "\n",
    "# plt.savefig('Model_pred_Diff_Capability_KZ_LMH.svg', format='svg', dpi=1000, bbox_inches=\"tight\")\n",
    "\n",
    "plt.show()"
   ]
  },
  {
   "cell_type": "code",
   "execution_count": null,
   "id": "2c7bacc7",
   "metadata": {},
   "outputs": [],
   "source": []
  }
 ],
 "metadata": {
  "kernelspec": {
   "display_name": "Python 3 (ipykernel)",
   "language": "python",
   "name": "python3"
  },
  "language_info": {
   "codemirror_mode": {
    "name": "ipython",
    "version": 3
   },
   "file_extension": ".py",
   "mimetype": "text/x-python",
   "name": "python",
   "nbconvert_exporter": "python",
   "pygments_lexer": "ipython3",
   "version": "3.9.13"
  }
 },
 "nbformat": 4,
 "nbformat_minor": 5
}
